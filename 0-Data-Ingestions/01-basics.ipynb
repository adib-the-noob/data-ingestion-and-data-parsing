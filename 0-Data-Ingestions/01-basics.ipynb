{
 "cells": [
  {
   "cell_type": "code",
   "execution_count": 3,
   "id": "6f8a7716",
   "metadata": {},
   "outputs": [
    {
     "name": "stdout",
     "output_type": "stream",
     "text": [
      "setup complete\n"
     ]
    }
   ],
   "source": [
    "import os\n",
    "from langchain_core.documents import Document\n",
    "from langchain_text_splitters import (\n",
    "    RecursiveCharacterTextSplitter,\n",
    "    CharacterTextSplitter,\n",
    "    TokenTextSplitter\n",
    ")\n",
    "print(\"setup complete\")"
   ]
  },
  {
   "cell_type": "markdown",
   "id": "d7b61d92",
   "metadata": {},
   "source": [
    "### Understanding the Document structure in LangChain"
   ]
  },
  {
   "cell_type": "code",
   "execution_count": 4,
   "id": "daeb629c",
   "metadata": {},
   "outputs": [
    {
     "name": "stdout",
     "output_type": "stream",
     "text": [
      "Document created successfully\n",
      "Content: This main text and document will be embeeded and searched.\n",
      "Metadata: {'page': 1, 'source': 'file1.txt', 'author': 'Adib', 'date_created': '2024-06-20'}\n"
     ]
    }
   ],
   "source": [
    "doc = Document(\n",
    "    page_content=\"This main text and document will be embeeded and searched.\",\n",
    "    metadata = {\n",
    "        \"page\": 1,\n",
    "        \"source\": \"file1.txt\",\n",
    "        \"author\": \"Adib\",\n",
    "        \"date_created\": \"2024-06-20\",\n",
    "    }\n",
    ")\n",
    "print(\"Document created successfully\")\n",
    "print(f\"Content: {doc.page_content}\")\n",
    "print(f\"Metadata: {doc.metadata}\")"
   ]
  },
  {
   "cell_type": "code",
   "execution_count": 5,
   "id": "db85fa36",
   "metadata": {},
   "outputs": [
    {
     "data": {
      "text/plain": [
       "langchain_core.documents.base.Document"
      ]
     },
     "execution_count": 5,
     "metadata": {},
     "output_type": "execute_result"
    }
   ],
   "source": [
    "type(doc)"
   ]
  },
  {
   "cell_type": "markdown",
   "id": "882f0d85",
   "metadata": {},
   "source": [
    "## Simple text File"
   ]
  },
  {
   "cell_type": "code",
   "execution_count": null,
   "id": "4d499360",
   "metadata": {},
   "outputs": [],
   "source": [
    "import os\n",
    "os.makedirs(\"data/text-files\", exist_ok=True)."
   ]
  },
  {
   "cell_type": "code",
   "execution_count": 7,
   "id": "32b1b950",
   "metadata": {},
   "outputs": [
    {
     "name": "stdout",
     "output_type": "stream",
     "text": [
      "sample text files created successfully.\n"
     ]
    }
   ],
   "source": [
    "sample_text = {\n",
    "    \"data/text-files/file1.txt\": \"This is the content of file one. It contains some sample text for testing.\",\n",
    "}\n",
    "for file_path, content in sample_text.items():\n",
    "    with open(file_path, \"w\", encoding=\"utf-8\") as f:\n",
    "        f.write(content)\n",
    "\n",
    "print(\"sample text files created successfully.\")"
   ]
  },
  {
   "cell_type": "markdown",
   "id": "6397bd43",
   "metadata": {},
   "source": [
    "### Text Loader from a single pdf"
   ]
  },
  {
   "cell_type": "code",
   "execution_count": 9,
   "id": "d2d74fed",
   "metadata": {},
   "outputs": [
    {
     "name": "stdout",
     "output_type": "stream",
     "text": [
      "[Document(metadata={'source': 'data/text-files/file1.txt'}, page_content='This is the content of file one. It contains some sample text for testing.')]\n"
     ]
    }
   ],
   "source": [
    "from langchain.document_loaders import TextLoader\n",
    "from langchain_community.document_loaders import PyPDFLoader\n",
    "\n",
    "document = TextLoader(\"data/text-files/file1.txt\").load()\n",
    "print(document)"
   ]
  }
 ],
 "metadata": {
  "kernelspec": {
   "display_name": "UdemyRAG",
   "language": "python",
   "name": "python3"
  },
  "language_info": {
   "codemirror_mode": {
    "name": "ipython",
    "version": 3
   },
   "file_extension": ".py",
   "mimetype": "text/x-python",
   "name": "python",
   "nbconvert_exporter": "python",
   "pygments_lexer": "ipython3",
   "version": "3.13.5"
  }
 },
 "nbformat": 4,
 "nbformat_minor": 5
}
